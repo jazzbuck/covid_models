{
 "cells": [
  {
   "cell_type": "markdown",
   "metadata": {},
   "source": [
    "# Hypercube model"
   ]
  },
  {
   "cell_type": "markdown",
   "metadata": {},
   "source": [
    "Let's start by playing with a hypercube model.\n",
    "In this model we imagine that every person has a number of neighbours that they could potentially get/give covid-19 from/to.\n",
    "\n",
    "If we imagined a matrix, then each person would have 8 neighbours.\n",
    "In a cube tensor, each person would have $8 + 9 + 9 = 26$ neighbours.\n",
    "In an n-dimensional tensor, each person has $3^n - 1$ neighbours.\n",
    "\n",
    "Let's begin with an easy tensor. 0 represents someone who is uninfected, 1 represents someone who is infected, and NA represents either someone who doesn't exist or someone who is no longer at risk (dead or immune)."
   ]
  },
  {
   "cell_type": "code",
   "execution_count": 18,
   "metadata": {},
   "outputs": [],
   "source": [
    "N = 4\n",
    "total_people = 1000\n",
    "\n",
    "tensor = zeros(Union{Missing, Int8}, (Int(ceil(total_people^(1/N))) for i in 1:N)...)\n",
    "total_neighbours = 3^N - 1\n",
    "\n",
    "using StatsBase\n",
    "locs = sample(1:((Int(ceil(total_people^(1/N))))^N),((Int(ceil(total_people^(1/N))))^N - total_people), replace=false)\n",
    "tensor[locs] .= missing;"
   ]
  },
  {
   "cell_type": "markdown",
   "metadata": {},
   "source": [
    "We begin by making a few `n0` people unwell."
   ]
  },
  {
   "cell_type": "code",
   "execution_count": 19,
   "metadata": {},
   "outputs": [
    {
     "data": {
      "text/plain": [
       "5"
      ]
     },
     "execution_count": 19,
     "metadata": {},
     "output_type": "execute_result"
    }
   ],
   "source": [
    "n0 = 5\n",
    "locs = sample(1:total_people, n0)\n",
    "tensor[locs] .= 1;\n",
    "sum(skipmissing(tensor)) ##should be 5"
   ]
  },
  {
   "cell_type": "markdown",
   "metadata": {},
   "source": [
    "First we iterate over each of the people who are unwell.\n",
    "The probability of them dying in that step is `mortrate`.\n",
    "The probability of them becoming well in that step is `healrate`.\n",
    "\n",
    "Then each step we iterate over the neighbours of people with illness.\n",
    "The average number of people who become infected by someone who is infected is `r0`.\n",
    "This must be done in the average time of being infected, i.e. 1/(`mortrate` + `healrate`).\n",
    "Therefore the average number of infections per step is `r0` * (`mortrate` + `healrate`).\n",
    "\n",
    "The probability of each of the neighbours becoming 1 is `r0` * (`mortrate` + `healrate`) * 1 / `total_neighbours`.\n",
    "If someone has two neighbours they will be iterated over twice.\n",
    "\n",
    "Then we can sum the array to know the number infected."
   ]
  },
  {
   "cell_type": "code",
   "execution_count": null,
   "metadata": {},
   "outputs": [],
   "source": [
    "function inflect(mortrate, healrate, r0, N)\n",
    "    function infect(array, cartind):\n",
    "        selected = array[cartind[i]+1:cartind[i]-1 for i in cartind]\n",
    "        \n",
    "    return infect\n",
    "    end\n",
    "end\n",
    "\n",
    "        \n",
    "\n",
    "\n"
   ]
  },
  {
   "cell_type": "code",
   "execution_count": 24,
   "metadata": {},
   "outputs": [
    {
     "data": {
      "text/plain": [
       "find_indices (generic function with 1 method)"
      ]
     },
     "execution_count": 24,
     "metadata": {},
     "output_type": "execute_result"
    }
   ],
   "source": [
    "function find_indices(pos, len)\n",
    "    start = pos - 1\n",
    "    if pos == 1\n",
    "        start = 1\n",
    "    end\n",
    "    last = pos + 1\n",
    "    if pos == len\n",
    "        last = len\n",
    "    end\n",
    "    return(start:last)\n",
    "end"
   ]
  },
  {
   "cell_type": "code",
   "execution_count": 28,
   "metadata": {},
   "outputs": [
    {
     "data": {
      "text/plain": [
       "get_neighbours (generic function with 1 method)"
      ]
     },
     "execution_count": 28,
     "metadata": {},
     "output_type": "execute_result"
    }
   ],
   "source": [
    "function get_neighbours(array, cartind)\n",
    "    dims = ndims(array)\n",
    "    len = size(array)[1]\n",
    "    tpl = Tuple(cartind)\n",
    "\n",
    "    array[(find_indices(i, len) for i in tpl)...]\n",
    "    \n",
    "end"
   ]
  },
  {
   "cell_type": "code",
   "execution_count": 29,
   "metadata": {},
   "outputs": [
    {
     "data": {
      "text/plain": [
       "3×3×3×2 Array{Union{Missing, Int8},4}:\n",
       "[:, :, 1, 1] =\n",
       " 0          missing   missing\n",
       " 0         0         0       \n",
       "  missing  0         0       \n",
       "\n",
       "[:, :, 2, 1] =\n",
       " 0         0  0\n",
       " 0         1  0\n",
       "  missing  0  0\n",
       "\n",
       "[:, :, 3, 1] =\n",
       " 0  0          missing\n",
       " 0   missing  0       \n",
       " 0  0         0       \n",
       "\n",
       "[:, :, 1, 2] =\n",
       " missing  0         missing\n",
       " missing  0         missing\n",
       " missing   missing  missing\n",
       "\n",
       "[:, :, 2, 2] =\n",
       " 0  0         0\n",
       " 0   missing  0\n",
       " 0  0         0\n",
       "\n",
       "[:, :, 3, 2] =\n",
       " 0         0   missing\n",
       "  missing  0  0       \n",
       " 0         0  0       "
      ]
     },
     "execution_count": 29,
     "metadata": {},
     "output_type": "execute_result"
    }
   ],
   "source": [
    "get_neighbours(tensor, findall(coalesce.(tensor .== 1, false))[1])"
   ]
  },
  {
   "cell_type": "code",
   "execution_count": 97,
   "metadata": {},
   "outputs": [
    {
     "ename": "LoadError",
     "evalue": "syntax: invalid iteration specification",
     "output_type": "error",
     "traceback": [
      "syntax: invalid iteration specification",
      ""
     ]
    }
   ],
   "source": [
    "\n",
    "\n",
    "[ for j,k in [-1, 0, 1] for i in 1:4]"
   ]
  },
  {
   "cell_type": "code",
   "execution_count": 89,
   "metadata": {},
   "outputs": [
    {
     "name": "stdout",
     "output_type": "stream",
     "text": [
      "(5, 3, 2, 1)\n",
      "5\n",
      "3\n",
      "2\n",
      "1\n",
      "(4, 4, 3, 1)\n",
      "4\n",
      "4\n",
      "3\n",
      "1\n",
      "(6, 6, 1, 2)\n",
      "6\n",
      "6\n",
      "1\n",
      "2\n",
      "(1, 2, 5, 3)\n",
      "1\n",
      "2\n",
      "5\n",
      "3\n",
      "(2, 1, 1, 5)\n",
      "2\n",
      "1\n",
      "1\n",
      "5\n"
     ]
    }
   ],
   "source": [
    "for i in findall(coalesce.(tensor .== 1, false))\n",
    "    println((Tuple(i)))\n",
    "    for j in Tuple(i)\n",
    "        println(j)\n",
    "    end\n",
    "end\n"
   ]
  },
  {
   "cell_type": "code",
   "execution_count": 20,
   "metadata": {},
   "outputs": [
    {
     "data": {
      "text/plain": [
       "5-element Array{CartesianIndex{4},1}:\n",
       " CartesianIndex(3, 3, 3, 1)\n",
       " CartesianIndex(5, 4, 1, 2)\n",
       " CartesianIndex(6, 1, 1, 3)\n",
       " CartesianIndex(5, 1, 5, 3)\n",
       " CartesianIndex(1, 6, 4, 4)"
      ]
     },
     "execution_count": 20,
     "metadata": {},
     "output_type": "execute_result"
    }
   ],
   "source": [
    "findall(coalesce.(tensor .== 1, false))"
   ]
  },
  {
   "cell_type": "code",
   "execution_count": null,
   "metadata": {},
   "outputs": [],
   "source": [
    "for i in findall(coalesce.(tensor .==1, false))\n",
    "    Tuple(i)"
   ]
  },
  {
   "cell_type": "code",
   "execution_count": 31,
   "metadata": {},
   "outputs": [
    {
     "data": {
      "text/plain": [
       "3×3×3×2 Array{Union{Missing, Int8},4}:\n",
       "[:, :, 1, 1] =\n",
       " 0  0   missing\n",
       " 0  0  0       \n",
       " 0  0  0       \n",
       "\n",
       "[:, :, 2, 1] =\n",
       " 0          missing  0\n",
       " 0         1         0\n",
       "  missing   missing  0\n",
       "\n",
       "[:, :, 3, 1] =\n",
       " 0   missing  0       \n",
       " 0  0          missing\n",
       " 0   missing  0       \n",
       "\n",
       "[:, :, 1, 2] =\n",
       "  missing  0  0       \n",
       " 0         0   missing\n",
       " 0         0  0       \n",
       "\n",
       "[:, :, 2, 2] =\n",
       " 0         0         0\n",
       "  missing   missing  0\n",
       " 0         0         0\n",
       "\n",
       "[:, :, 3, 2] =\n",
       " 0  0         0\n",
       " 0   missing  0\n",
       " 0  0         0"
      ]
     },
     "execution_count": 31,
     "metadata": {},
     "output_type": "execute_result"
    }
   ],
   "source": [
    "tensor[2:4,2:4,2:4,1:2]"
   ]
  }
 ],
 "metadata": {
  "kernelspec": {
   "display_name": "Julia 1.3.1",
   "language": "julia",
   "name": "julia-1.3"
  },
  "language_info": {
   "file_extension": ".jl",
   "mimetype": "application/julia",
   "name": "julia",
   "version": "1.3.1"
  }
 },
 "nbformat": 4,
 "nbformat_minor": 4
}
